{
 "cells": [
  {
   "cell_type": "code",
   "execution_count": 4,
   "metadata": {},
   "outputs": [],
   "source": [
    "import numpy as np\n",
    "import pandas as pd\n",
    "import seaborn as sns\n",
    "from tqdm.notebook import tqdm\n",
    "import matplotlib.pyplot as plt\n",
    "\n",
    "import torch\n",
    "import torch.nn as nn\n",
    "import torch.optim as optim\n",
    "from torch.utils.data import Dataset, DataLoader, WeightedRandomSampler\n",
    "\n",
    "from sklearn.preprocessing import MinMaxScaler    \n",
    "from sklearn.model_selection import train_test_split\n",
    "from sklearn.metrics import confusion_matrix, classification_report"
   ]
  },
  {
   "cell_type": "code",
   "execution_count": 10,
   "metadata": {},
   "outputs": [
    {
     "data": {
      "text/plain": [
       "<bound method NDFrame.head of                        Unnamed: 0  AC148167.6_FG001  AC149475.2_FG003  \\\n",
       "0                    282set_33.16          59.36576         119.51265   \n",
       "1                     282set_4226          81.42898          71.25036   \n",
       "2                       282set_A6          47.75797          78.10419   \n",
       "3     282set_A214NGoodman.Buckler          60.31933         106.91080   \n",
       "4                     282set_A239          41.21986         111.39176   \n",
       "...                           ...               ...               ...   \n",
       "1765                         Ms71          36.97514          36.97514   \n",
       "1766                           N6          52.60360          50.60599   \n",
       "1767                         Oh43          46.00338          36.80270   \n",
       "1768                          W22          73.26360          36.49357   \n",
       "1769                         W64A          53.07240          54.29715   \n",
       "\n",
       "      AC149475.2_FG005  AC149818.2_FG001  AC149818.2_FG006  AC149818.2_FG008  \\\n",
       "0              0.78113          13.66975           6.63959           0.78113   \n",
       "1              1.01786           0.00000          20.35724           0.00000   \n",
       "2              0.00000           5.47227          13.92941           0.49748   \n",
       "3              0.41600          11.23187          20.38377           0.83199   \n",
       "4              1.47214          13.24924           5.88855           0.49071   \n",
       "...                ...               ...               ...               ...   \n",
       "1765           3.08126           3.08126          28.96386           0.61625   \n",
       "1766           0.66587           1.33174          33.95928           0.00000   \n",
       "1767           0.76672           0.00000          42.16976           0.00000   \n",
       "1768           1.10587           1.38233          26.26431           1.10587   \n",
       "1769           0.81650           0.40825          46.94866           0.00000   \n",
       "\n",
       "      AC149828.2_FG002  AC149829.2_FG006  AC150739.3_FG001  ...  \\\n",
       "0             15.23200           4.29621           1.56226  ...   \n",
       "1             14.25007           3.05359           0.00000  ...   \n",
       "2              7.95966           0.99496           1.49244  ...   \n",
       "3              6.23993           1.24799           2.91197  ...   \n",
       "4             14.23067           2.45356           3.43499  ...   \n",
       "...                ...               ...               ...  ...   \n",
       "1765           8.62753           1.23250           0.00000  ...   \n",
       "1766           3.32934           0.00000           0.66587  ...   \n",
       "1767           5.36706           1.53345           1.53345  ...   \n",
       "1768           4.69993           0.82940           3.59406  ...   \n",
       "1769           2.85774           0.81650           0.40825  ...   \n",
       "\n",
       "      GRMZM6G902674  GRMZM6G907181  GRMZM6G910222  GRMZM6G924006  \\\n",
       "0          55.46012       21.48103      117.55983        1.17169   \n",
       "1          43.76808       37.66090       37.66090        3.05359   \n",
       "2          30.34621       38.30588       62.18486        0.00000   \n",
       "3          29.95166       33.69562       78.20712        0.00000   \n",
       "4          39.74772       29.93347       92.25397        0.98143   \n",
       "...             ...            ...            ...            ...   \n",
       "1765       44.98642       30.19637       69.02026       24.03384   \n",
       "1766       17.31258       17.31258       52.60360       19.31018   \n",
       "1767       38.33615       29.90220       49.07027       13.03429   \n",
       "1768       28.75251       40.36410       42.02290        9.95279   \n",
       "1769       38.37543       24.49495       36.74243       13.88047   \n",
       "\n",
       "      GRMZM6G933659  GRMZM6G942746  GRMZM6G945840  GRMZM6G953609  \\\n",
       "0           5.07733       10.15467        4.68677       22.26216   \n",
       "1           2.03572       13.23221       12.21435        9.16076   \n",
       "2           2.98487       13.43193        2.98487       14.42689   \n",
       "3           4.57595        8.73590        0.41600        7.90391   \n",
       "4           3.43499        9.32354        3.92570       13.73995   \n",
       "...             ...            ...            ...            ...   \n",
       "1765        8.01128       16.02256       12.94130        4.31377   \n",
       "1766        5.32695       19.31018        7.32455        0.66587   \n",
       "1767        6.13378       14.56774       19.16807        1.53345   \n",
       "1768        3.31760       13.27039       10.78219        1.38233   \n",
       "1769        4.08249       26.12795        6.12374        0.00000   \n",
       "\n",
       "      GRMZM6G982453  tissue  \n",
       "0           1.95282      RT  \n",
       "1           2.03572      RT  \n",
       "2           0.99496      RT  \n",
       "3           1.24799      RT  \n",
       "4           3.43499      RT  \n",
       "...             ...     ...  \n",
       "1765        4.93002      LN  \n",
       "1766        0.00000      LN  \n",
       "1767        3.06689      LN  \n",
       "1768        5.25286      LN  \n",
       "1769        7.75674      LN  \n",
       "\n",
       "[1770 rows x 15507 columns]>"
      ]
     },
     "execution_count": 10,
     "metadata": {},
     "output_type": "execute_result"
    }
   ],
   "source": [
    "df = pd.read_csv('/Users/leilei/Downloads/dl/hyfa/HYFA/data/maizegtex.csv')\n",
    "df.head\n",
    "                "
   ]
  },
  {
   "cell_type": "code",
   "execution_count": 9,
   "metadata": {},
   "outputs": [
    {
     "data": {
      "text/plain": [
       "'/Users/leilei/Downloads/dl'"
      ]
     },
     "execution_count": 9,
     "metadata": {},
     "output_type": "execute_result"
    }
   ],
   "source": [
    "import os\n",
    "import sys\n",
    "currentPath = os.getcwd().replace('\\\\','/') \n",
    "currentPath"
   ]
  },
  {
   "cell_type": "code",
   "execution_count": 11,
   "metadata": {},
   "outputs": [
    {
     "data": {
      "text/plain": [
       "<Axes: xlabel='tissue', ylabel='count'>"
      ]
     },
     "execution_count": 11,
     "metadata": {},
     "output_type": "execute_result"
    },
    {
     "data": {
      "image/png": "[encoded data removed]",
      "text/plain": [
       "<Figure size 640x480 with 1 Axes>"
      ]
     },
     "metadata": {},
     "output_type": "display_data"
    }
   ],
   "source": [
    "sns.countplot(x = 'tissue', data=df)"
   ]
  },
  {
   "cell_type": "code",
   "execution_count": 12,
   "metadata": {},
   "outputs": [],
   "source": [
    "class2idx = {\n",
    "    'RT':0,\n",
    "    'SH':1,\n",
    "    'LB':2,\n",
    "    'LT':3,\n",
    "    'KN':4,\n",
    "    'LD':5,\n",
    "    'LN':6,\n",
    "}\n",
    "\n",
    "idx2class = {v: k for k, v in class2idx.items()}\n",
    "\n",
    "df['tissue'].replace(class2idx, inplace=True)"
   ]
  },
  {
   "cell_type": "code",
   "execution_count": 13,
   "metadata": {},
   "outputs": [
    {
     "data": {
      "text/plain": [
       "<bound method NDFrame.head of                        Unnamed: 0  AC148167.6_FG001  AC149475.2_FG003  \\\n",
       "0                    282set_33.16          59.36576         119.51265   \n",
       "1                     282set_4226          81.42898          71.25036   \n",
       "2                       282set_A6          47.75797          78.10419   \n",
       "3     282set_A214NGoodman.Buckler          60.31933         106.91080   \n",
       "4                     282set_A239          41.21986         111.39176   \n",
       "...                           ...               ...               ...   \n",
       "1765                         Ms71          36.97514          36.97514   \n",
       "1766                           N6          52.60360          50.60599   \n",
       "1767                         Oh43          46.00338          36.80270   \n",
       "1768                          W22          73.26360          36.49357   \n",
       "1769                         W64A          53.07240          54.29715   \n",
       "\n",
       "      AC149475.2_FG005  AC149818.2_FG001  AC149818.2_FG006  AC149818.2_FG008  \\\n",
       "0              0.78113          13.66975           6.63959           0.78113   \n",
       "1              1.01786           0.00000          20.35724           0.00000   \n",
       "2              0.00000           5.47227          13.92941           0.49748   \n",
       "3              0.41600          11.23187          20.38377           0.83199   \n",
       "4              1.47214          13.24924           5.88855           0.49071   \n",
       "...                ...               ...               ...               ...   \n",
       "1765           3.08126           3.08126          28.96386           0.61625   \n",
       "1766           0.66587           1.33174          33.95928           0.00000   \n",
       "1767           0.76672           0.00000          42.16976           0.00000   \n",
       "1768           1.10587           1.38233          26.26431           1.10587   \n",
       "1769           0.81650           0.40825          46.94866           0.00000   \n",
       "\n",
       "      AC149828.2_FG002  AC149829.2_FG006  AC150739.3_FG001  ...  \\\n",
       "0             15.23200           4.29621           1.56226  ...   \n",
       "1             14.25007           3.05359           0.00000  ...   \n",
       "2              7.95966           0.99496           1.49244  ...   \n",
       "3              6.23993           1.24799           2.91197  ...   \n",
       "4             14.23067           2.45356           3.43499  ...   \n",
       "...                ...               ...               ...  ...   \n",
       "1765           8.62753           1.23250           0.00000  ...   \n",
       "1766           3.32934           0.00000           0.66587  ...   \n",
       "1767           5.36706           1.53345           1.53345  ...   \n",
       "1768           4.69993           0.82940           3.59406  ...   \n",
       "1769           2.85774           0.81650           0.40825  ...   \n",
       "\n",
       "      GRMZM6G902674  GRMZM6G907181  GRMZM6G910222  GRMZM6G924006  \\\n",
       "0          55.46012       21.48103      117.55983        1.17169   \n",
       "1          43.76808       37.66090       37.66090        3.05359   \n",
       "2          30.34621       38.30588       62.18486        0.00000   \n",
       "3          29.95166       33.69562       78.20712        0.00000   \n",
       "4          39.74772       29.93347       92.25397        0.98143   \n",
       "...             ...            ...            ...            ...   \n",
       "1765       44.98642       30.19637       69.02026       24.03384   \n",
       "1766       17.31258       17.31258       52.60360       19.31018   \n",
       "1767       38.33615       29.90220       49.07027       13.03429   \n",
       "1768       28.75251       40.36410       42.02290        9.95279   \n",
       "1769       38.37543       24.49495       36.74243       13.88047   \n",
       "\n",
       "      GRMZM6G933659  GRMZM6G942746  GRMZM6G945840  GRMZM6G953609  \\\n",
       "0           5.07733       10.15467        4.68677       22.26216   \n",
       "1           2.03572       13.23221       12.21435        9.16076   \n",
       "2           2.98487       13.43193        2.98487       14.42689   \n",
       "3           4.57595        8.73590        0.41600        7.90391   \n",
       "4           3.43499        9.32354        3.92570       13.73995   \n",
       "...             ...            ...            ...            ...   \n",
       "1765        8.01128       16.02256       12.94130        4.31377   \n",
       "1766        5.32695       19.31018        7.32455        0.66587   \n",
       "1767        6.13378       14.56774       19.16807        1.53345   \n",
       "1768        3.31760       13.27039       10.78219        1.38233   \n",
       "1769        4.08249       26.12795        6.12374        0.00000   \n",
       "\n",
       "      GRMZM6G982453  tissue  \n",
       "0           1.95282       0  \n",
       "1           2.03572       0  \n",
       "2           0.99496       0  \n",
       "3           1.24799       0  \n",
       "4           3.43499       0  \n",
       "...             ...     ...  \n",
       "1765        4.93002       6  \n",
       "1766        0.00000       6  \n",
       "1767        3.06689       6  \n",
       "1768        5.25286       6  \n",
       "1769        7.75674       6  \n",
       "\n",
       "[1770 rows x 15507 columns]>"
      ]
     },
     "execution_count": 13,
     "metadata": {},
     "output_type": "execute_result"
    }
   ],
   "source": [
    "df.head"
   ]
  },
  {
   "cell_type": "code",
   "execution_count": 33,
   "metadata": {},
   "outputs": [],
   "source": [
    "X = df.iloc[:, 1:-1]\n",
    "y = df.iloc[:, -1]"
   ]
  },
  {
   "cell_type": "code",
   "execution_count": 34,
   "metadata": {},
   "outputs": [
    {
     "data": {
      "text/html": [
       "<div>\n",
       "<style scoped>\n",
       "    .dataframe tbody tr th:only-of-type {\n",
       "        vertical-align: middle;\n",
       "    }\n",
       "\n",
       "    .dataframe tbody tr th {\n",
       "        vertical-align: top;\n",
       "    }\n",
       "\n",
       "    .dataframe thead th {\n",
       "        text-align: right;\n",
       "    }\n",
       "</style>\n",
       "<table border=\"1\" class=\"dataframe\">\n",
       "  <thead>\n",
       "    <tr style=\"text-align: right;\">\n",
       "      <th></th>\n",
       "      <th>AC148167.6_FG001</th>\n",
       "      <th>AC149475.2_FG003</th>\n",
       "      <th>AC149475.2_FG005</th>\n",
       "      <th>AC149818.2_FG001</th>\n",
       "      <th>AC149818.2_FG006</th>\n",
       "      <th>AC149818.2_FG008</th>\n",
       "      <th>AC149828.2_FG002</th>\n",
       "      <th>AC149829.2_FG006</th>\n",
       "      <th>AC150739.3_FG001</th>\n",
       "      <th>AC155376.2_FG005</th>\n",
       "      <th>...</th>\n",
       "      <th>GRMZM6G901724</th>\n",
       "      <th>GRMZM6G902674</th>\n",
       "      <th>GRMZM6G907181</th>\n",
       "      <th>GRMZM6G910222</th>\n",
       "      <th>GRMZM6G924006</th>\n",
       "      <th>GRMZM6G933659</th>\n",
       "      <th>GRMZM6G942746</th>\n",
       "      <th>GRMZM6G945840</th>\n",
       "      <th>GRMZM6G953609</th>\n",
       "      <th>GRMZM6G982453</th>\n",
       "    </tr>\n",
       "  </thead>\n",
       "  <tbody>\n",
       "    <tr>\n",
       "      <th>0</th>\n",
       "      <td>59.36576</td>\n",
       "      <td>119.51265</td>\n",
       "      <td>0.78113</td>\n",
       "      <td>13.66975</td>\n",
       "      <td>6.63959</td>\n",
       "      <td>0.78113</td>\n",
       "      <td>15.23200</td>\n",
       "      <td>4.29621</td>\n",
       "      <td>1.56226</td>\n",
       "      <td>6.24903</td>\n",
       "      <td>...</td>\n",
       "      <td>26.55837</td>\n",
       "      <td>55.46012</td>\n",
       "      <td>21.48103</td>\n",
       "      <td>117.55983</td>\n",
       "      <td>1.17169</td>\n",
       "      <td>5.07733</td>\n",
       "      <td>10.15467</td>\n",
       "      <td>4.68677</td>\n",
       "      <td>22.26216</td>\n",
       "      <td>1.95282</td>\n",
       "    </tr>\n",
       "    <tr>\n",
       "      <th>1</th>\n",
       "      <td>81.42898</td>\n",
       "      <td>71.25036</td>\n",
       "      <td>1.01786</td>\n",
       "      <td>0.00000</td>\n",
       "      <td>20.35724</td>\n",
       "      <td>0.00000</td>\n",
       "      <td>14.25007</td>\n",
       "      <td>3.05359</td>\n",
       "      <td>0.00000</td>\n",
       "      <td>20.35724</td>\n",
       "      <td>...</td>\n",
       "      <td>11.19648</td>\n",
       "      <td>43.76808</td>\n",
       "      <td>37.66090</td>\n",
       "      <td>37.66090</td>\n",
       "      <td>3.05359</td>\n",
       "      <td>2.03572</td>\n",
       "      <td>13.23221</td>\n",
       "      <td>12.21435</td>\n",
       "      <td>9.16076</td>\n",
       "      <td>2.03572</td>\n",
       "    </tr>\n",
       "    <tr>\n",
       "      <th>2</th>\n",
       "      <td>47.75797</td>\n",
       "      <td>78.10419</td>\n",
       "      <td>0.00000</td>\n",
       "      <td>5.47227</td>\n",
       "      <td>13.92941</td>\n",
       "      <td>0.49748</td>\n",
       "      <td>7.95966</td>\n",
       "      <td>0.99496</td>\n",
       "      <td>1.49244</td>\n",
       "      <td>10.44706</td>\n",
       "      <td>...</td>\n",
       "      <td>25.37142</td>\n",
       "      <td>30.34621</td>\n",
       "      <td>38.30588</td>\n",
       "      <td>62.18486</td>\n",
       "      <td>0.00000</td>\n",
       "      <td>2.98487</td>\n",
       "      <td>13.43193</td>\n",
       "      <td>2.98487</td>\n",
       "      <td>14.42689</td>\n",
       "      <td>0.99496</td>\n",
       "    </tr>\n",
       "    <tr>\n",
       "      <th>3</th>\n",
       "      <td>60.31933</td>\n",
       "      <td>106.91080</td>\n",
       "      <td>0.41600</td>\n",
       "      <td>11.23187</td>\n",
       "      <td>20.38377</td>\n",
       "      <td>0.83199</td>\n",
       "      <td>6.23993</td>\n",
       "      <td>1.24799</td>\n",
       "      <td>2.91197</td>\n",
       "      <td>10.39988</td>\n",
       "      <td>...</td>\n",
       "      <td>23.29574</td>\n",
       "      <td>29.95166</td>\n",
       "      <td>33.69562</td>\n",
       "      <td>78.20712</td>\n",
       "      <td>0.00000</td>\n",
       "      <td>4.57595</td>\n",
       "      <td>8.73590</td>\n",
       "      <td>0.41600</td>\n",
       "      <td>7.90391</td>\n",
       "      <td>1.24799</td>\n",
       "    </tr>\n",
       "    <tr>\n",
       "      <th>4</th>\n",
       "      <td>41.21986</td>\n",
       "      <td>111.39176</td>\n",
       "      <td>1.47214</td>\n",
       "      <td>13.24924</td>\n",
       "      <td>5.88855</td>\n",
       "      <td>0.49071</td>\n",
       "      <td>14.23067</td>\n",
       "      <td>2.45356</td>\n",
       "      <td>3.43499</td>\n",
       "      <td>1.47214</td>\n",
       "      <td>...</td>\n",
       "      <td>21.10064</td>\n",
       "      <td>39.74772</td>\n",
       "      <td>29.93347</td>\n",
       "      <td>92.25397</td>\n",
       "      <td>0.98143</td>\n",
       "      <td>3.43499</td>\n",
       "      <td>9.32354</td>\n",
       "      <td>3.92570</td>\n",
       "      <td>13.73995</td>\n",
       "      <td>3.43499</td>\n",
       "    </tr>\n",
       "    <tr>\n",
       "      <th>...</th>\n",
       "      <td>...</td>\n",
       "      <td>...</td>\n",
       "      <td>...</td>\n",
       "      <td>...</td>\n",
       "      <td>...</td>\n",
       "      <td>...</td>\n",
       "      <td>...</td>\n",
       "      <td>...</td>\n",
       "      <td>...</td>\n",
       "      <td>...</td>\n",
       "      <td>...</td>\n",
       "      <td>...</td>\n",
       "      <td>...</td>\n",
       "      <td>...</td>\n",
       "      <td>...</td>\n",
       "      <td>...</td>\n",
       "      <td>...</td>\n",
       "      <td>...</td>\n",
       "      <td>...</td>\n",
       "      <td>...</td>\n",
       "      <td>...</td>\n",
       "    </tr>\n",
       "    <tr>\n",
       "      <th>1765</th>\n",
       "      <td>36.97514</td>\n",
       "      <td>36.97514</td>\n",
       "      <td>3.08126</td>\n",
       "      <td>3.08126</td>\n",
       "      <td>28.96386</td>\n",
       "      <td>0.61625</td>\n",
       "      <td>8.62753</td>\n",
       "      <td>1.23250</td>\n",
       "      <td>0.00000</td>\n",
       "      <td>0.00000</td>\n",
       "      <td>...</td>\n",
       "      <td>134.34301</td>\n",
       "      <td>44.98642</td>\n",
       "      <td>30.19637</td>\n",
       "      <td>69.02026</td>\n",
       "      <td>24.03384</td>\n",
       "      <td>8.01128</td>\n",
       "      <td>16.02256</td>\n",
       "      <td>12.94130</td>\n",
       "      <td>4.31377</td>\n",
       "      <td>4.93002</td>\n",
       "    </tr>\n",
       "    <tr>\n",
       "      <th>1766</th>\n",
       "      <td>52.60360</td>\n",
       "      <td>50.60599</td>\n",
       "      <td>0.66587</td>\n",
       "      <td>1.33174</td>\n",
       "      <td>33.95928</td>\n",
       "      <td>0.00000</td>\n",
       "      <td>3.32934</td>\n",
       "      <td>0.00000</td>\n",
       "      <td>0.66587</td>\n",
       "      <td>1.99760</td>\n",
       "      <td>...</td>\n",
       "      <td>58.59641</td>\n",
       "      <td>17.31258</td>\n",
       "      <td>17.31258</td>\n",
       "      <td>52.60360</td>\n",
       "      <td>19.31018</td>\n",
       "      <td>5.32695</td>\n",
       "      <td>19.31018</td>\n",
       "      <td>7.32455</td>\n",
       "      <td>0.66587</td>\n",
       "      <td>0.00000</td>\n",
       "    </tr>\n",
       "    <tr>\n",
       "      <th>1767</th>\n",
       "      <td>46.00338</td>\n",
       "      <td>36.80270</td>\n",
       "      <td>0.76672</td>\n",
       "      <td>0.00000</td>\n",
       "      <td>42.16976</td>\n",
       "      <td>0.00000</td>\n",
       "      <td>5.36706</td>\n",
       "      <td>1.53345</td>\n",
       "      <td>1.53345</td>\n",
       "      <td>0.00000</td>\n",
       "      <td>...</td>\n",
       "      <td>77.43902</td>\n",
       "      <td>38.33615</td>\n",
       "      <td>29.90220</td>\n",
       "      <td>49.07027</td>\n",
       "      <td>13.03429</td>\n",
       "      <td>6.13378</td>\n",
       "      <td>14.56774</td>\n",
       "      <td>19.16807</td>\n",
       "      <td>1.53345</td>\n",
       "      <td>3.06689</td>\n",
       "    </tr>\n",
       "    <tr>\n",
       "      <th>1768</th>\n",
       "      <td>73.26360</td>\n",
       "      <td>36.49357</td>\n",
       "      <td>1.10587</td>\n",
       "      <td>1.38233</td>\n",
       "      <td>26.26431</td>\n",
       "      <td>1.10587</td>\n",
       "      <td>4.69993</td>\n",
       "      <td>0.82940</td>\n",
       "      <td>3.59406</td>\n",
       "      <td>1.93526</td>\n",
       "      <td>...</td>\n",
       "      <td>93.16918</td>\n",
       "      <td>28.75251</td>\n",
       "      <td>40.36410</td>\n",
       "      <td>42.02290</td>\n",
       "      <td>9.95279</td>\n",
       "      <td>3.31760</td>\n",
       "      <td>13.27039</td>\n",
       "      <td>10.78219</td>\n",
       "      <td>1.38233</td>\n",
       "      <td>5.25286</td>\n",
       "    </tr>\n",
       "    <tr>\n",
       "      <th>1769</th>\n",
       "      <td>53.07240</td>\n",
       "      <td>54.29715</td>\n",
       "      <td>0.81650</td>\n",
       "      <td>0.40825</td>\n",
       "      <td>46.94866</td>\n",
       "      <td>0.00000</td>\n",
       "      <td>2.85774</td>\n",
       "      <td>0.81650</td>\n",
       "      <td>0.40825</td>\n",
       "      <td>0.00000</td>\n",
       "      <td>...</td>\n",
       "      <td>116.35103</td>\n",
       "      <td>38.37543</td>\n",
       "      <td>24.49495</td>\n",
       "      <td>36.74243</td>\n",
       "      <td>13.88047</td>\n",
       "      <td>4.08249</td>\n",
       "      <td>26.12795</td>\n",
       "      <td>6.12374</td>\n",
       "      <td>0.00000</td>\n",
       "      <td>7.75674</td>\n",
       "    </tr>\n",
       "  </tbody>\n",
       "</table>\n",
       "<p>1770 rows × 15505 columns</p>\n",
       "</div>"
      ],
      "text/plain": [
       "      AC148167.6_FG001  AC149475.2_FG003  AC149475.2_FG005  AC149818.2_FG001  \\\n",
       "0             59.36576         119.51265           0.78113          13.66975   \n",
       "1             81.42898          71.25036           1.01786           0.00000   \n",
       "2             47.75797          78.10419           0.00000           5.47227   \n",
       "3             60.31933         106.91080           0.41600          11.23187   \n",
       "4             41.21986         111.39176           1.47214          13.24924   \n",
       "...                ...               ...               ...               ...   \n",
       "1765          36.97514          36.97514           3.08126           3.08126   \n",
       "1766          52.60360          50.60599           0.66587           1.33174   \n",
       "1767          46.00338          36.80270           0.76672           0.00000   \n",
       "1768          73.26360          36.49357           1.10587           1.38233   \n",
       "1769          53.07240          54.29715           0.81650           0.40825   \n",
       "\n",
       "      AC149818.2_FG006  AC149818.2_FG008  AC149828.2_FG002  AC149829.2_FG006  \\\n",
       "0              6.63959           0.78113          15.23200           4.29621   \n",
       "1             20.35724           0.00000          14.25007           3.05359   \n",
       "2             13.92941           0.49748           7.95966           0.99496   \n",
       "3             20.38377           0.83199           6.23993           1.24799   \n",
       "4              5.88855           0.49071          14.23067           2.45356   \n",
       "...                ...               ...               ...               ...   \n",
       "1765          28.96386           0.61625           8.62753           1.23250   \n",
       "1766          33.95928           0.00000           3.32934           0.00000   \n",
       "1767          42.16976           0.00000           5.36706           1.53345   \n",
       "1768          26.26431           1.10587           4.69993           0.82940   \n",
       "1769          46.94866           0.00000           2.85774           0.81650   \n",
       "\n",
       "      AC150739.3_FG001  AC155376.2_FG005  ...  GRMZM6G901724  GRMZM6G902674  \\\n",
       "0              1.56226           6.24903  ...       26.55837       55.46012   \n",
       "1              0.00000          20.35724  ...       11.19648       43.76808   \n",
       "2              1.49244          10.44706  ...       25.37142       30.34621   \n",
       "3              2.91197          10.39988  ...       23.29574       29.95166   \n",
       "4              3.43499           1.47214  ...       21.10064       39.74772   \n",
       "...                ...               ...  ...            ...            ...   \n",
       "1765           0.00000           0.00000  ...      134.34301       44.98642   \n",
       "1766           0.66587           1.99760  ...       58.59641       17.31258   \n",
       "1767           1.53345           0.00000  ...       77.43902       38.33615   \n",
       "1768           3.59406           1.93526  ...       93.16918       28.75251   \n",
       "1769           0.40825           0.00000  ...      116.35103       38.37543   \n",
       "\n",
       "      GRMZM6G907181  GRMZM6G910222  GRMZM6G924006  GRMZM6G933659  \\\n",
       "0          21.48103      117.55983        1.17169        5.07733   \n",
       "1          37.66090       37.66090        3.05359        2.03572   \n",
       "2          38.30588       62.18486        0.00000        2.98487   \n",
       "3          33.69562       78.20712        0.00000        4.57595   \n",
       "4          29.93347       92.25397        0.98143        3.43499   \n",
       "...             ...            ...            ...            ...   \n",
       "1765       30.19637       69.02026       24.03384        8.01128   \n",
       "1766       17.31258       52.60360       19.31018        5.32695   \n",
       "1767       29.90220       49.07027       13.03429        6.13378   \n",
       "1768       40.36410       42.02290        9.95279        3.31760   \n",
       "1769       24.49495       36.74243       13.88047        4.08249   \n",
       "\n",
       "      GRMZM6G942746  GRMZM6G945840  GRMZM6G953609  GRMZM6G982453  \n",
       "0          10.15467        4.68677       22.26216        1.95282  \n",
       "1          13.23221       12.21435        9.16076        2.03572  \n",
       "2          13.43193        2.98487       14.42689        0.99496  \n",
       "3           8.73590        0.41600        7.90391        1.24799  \n",
       "4           9.32354        3.92570       13.73995        3.43499  \n",
       "...             ...            ...            ...            ...  \n",
       "1765       16.02256       12.94130        4.31377        4.93002  \n",
       "1766       19.31018        7.32455        0.66587        0.00000  \n",
       "1767       14.56774       19.16807        1.53345        3.06689  \n",
       "1768       13.27039       10.78219        1.38233        5.25286  \n",
       "1769       26.12795        6.12374        0.00000        7.75674  \n",
       "\n",
       "[1770 rows x 15505 columns]"
      ]
     },
     "execution_count": 34,
     "metadata": {},
     "output_type": "execute_result"
    }
   ],
   "source": [
    "X"
   ]
  },
  {
   "cell_type": "code",
   "execution_count": 36,
   "metadata": {},
   "outputs": [],
   "source": [
    "# Split into train+val and test\n",
    "X_trainval, X_test, y_trainval, y_test = train_test_split(X, y, test_size=0.2, stratify=y, random_state=69)\n",
    "\n",
    "# Split train into train-val\n",
    "X_train, X_val, y_train, y_val = train_test_split(X_trainval, y_trainval, test_size=0.1, stratify=y_trainval, random_state=21)"
   ]
  },
  {
   "cell_type": "code",
   "execution_count": 46,
   "metadata": {},
   "outputs": [],
   "source": [
    "def get_class_distribution(obj):\n",
    "    count_dict = {\n",
    "        \"RT\": 0,\n",
    "        \"SH\": 0,\n",
    "        \"LB\": 0,\n",
    "        \"LT\": 0,\n",
    "        \"KN\": 0,\n",
    "        \"LD\": 0,\n",
    "        \"LN\": 0\n",
    "    }\n",
    "    \n",
    "    for i in obj:\n",
    "        if i == 0: \n",
    "            count_dict['RT'] += 1\n",
    "        elif i == 1: \n",
    "            count_dict['SH'] += 1\n",
    "        elif i == 2: \n",
    "            count_dict['LB'] += 1\n",
    "        elif i == 3: \n",
    "            count_dict['LT'] += 1\n",
    "        elif i == 4: \n",
    "            count_dict['KN'] += 1  \n",
    "        elif i == 5: \n",
    "            count_dict['LD'] += 1   \n",
    "        elif i == 6: \n",
    "            count_dict['LN'] += 1            \n",
    "        else:\n",
    "            print(\"Check classes.\")\n",
    "            \n",
    "    return count_dict"
   ]
  },
  {
   "cell_type": "code",
   "execution_count": 47,
   "metadata": {},
   "outputs": [
    {
     "data": {
      "text/plain": [
       "Text(0.5, 1.0, 'Class Distribution in Test Set')"
      ]
     },
     "execution_count": 47,
     "metadata": {},
     "output_type": "execute_result"
    },
    {
     "data": {
      "image/png": "[encoded data removed]",
      "text/plain": [
       "<Figure size 2500x700 with 3 Axes>"
      ]
     },
     "metadata": {},
     "output_type": "display_data"
    }
   ],
   "source": [
    "fig, axes = plt.subplots(nrows=1, ncols=3, figsize=(25,7))\n",
    "# Train\n",
    "sns.barplot(data = pd.DataFrame.from_dict([get_class_distribution(y_train)]).melt(), x = \"variable\", y=\"value\", hue=\"variable\",  ax=axes[0]).set_title('Class Distribution in Train Set')\n",
    "# Validation\n",
    "sns.barplot(data = pd.DataFrame.from_dict([get_class_distribution(y_val)]).melt(), x = \"variable\", y=\"value\", hue=\"variable\",  ax=axes[1]).set_title('Class Distribution in Val Set')\n",
    "# Test\n",
    "sns.barplot(data = pd.DataFrame.from_dict([get_class_distribution(y_test)]).melt(), x = \"variable\", y=\"value\", hue=\"variable\",  ax=axes[2]).set_title('Class Distribution in Test Set')"
   ]
  },
  {
   "cell_type": "code",
   "execution_count": 48,
   "metadata": {},
   "outputs": [],
   "source": [
    "#scale\n",
    "scaler = MinMaxScaler()\n",
    "X_train1 = scaler.fit_transform(X_train)\n",
    "X_val1 = scaler.transform(X_val)\n",
    "X_test1 = scaler.transform(X_test)"
   ]
  },
  {
   "cell_type": "code",
   "execution_count": 49,
   "metadata": {},
   "outputs": [],
   "source": [
    "X_train, y_train = np.array(X_train), np.array(y_train)\n",
    "X_val, y_val = np.array(X_val), np.array(y_val)\n",
    "X_test, y_test = np.array(X_test), np.array(y_test)"
   ]
  },
  {
   "cell_type": "code",
   "execution_count": 50,
   "metadata": {},
   "outputs": [],
   "source": [
    "class ClassifierDataset(Dataset):\n",
    "    \n",
    "    def __init__(self, X_data, y_data):\n",
    "        self.X_data = X_data\n",
    "        self.y_data = y_data\n",
    "        \n",
    "    def __getitem__(self, index):\n",
    "        return self.X_data[index], self.y_data[index]\n",
    "        \n",
    "    def __len__ (self):\n",
    "        return len(self.X_data)\n",
    "\n",
    "\n",
    "train_dataset = ClassifierDataset(torch.from_numpy(X_train).float(), torch.from_numpy(y_train).long())\n",
    "val_dataset = ClassifierDataset(torch.from_numpy(X_val).float(), torch.from_numpy(y_val).long())\n",
    "test_dataset = ClassifierDataset(torch.from_numpy(X_test).float(), torch.from_numpy(y_test).long())"
   ]
  },
  {
   "cell_type": "code",
   "execution_count": 51,
   "metadata": {},
   "outputs": [
    {
     "data": {
      "text/plain": [
       "array([[ 54.85906, 109.71812,   1.23742, ...,   5.36216,  23.9235 ,\n",
       "          7.01206],\n",
       "       [ 34.47377,  84.61744,   0.     , ...,   8.35728,   6.00679,\n",
       "          2.61165],\n",
       "       [ 46.7685 ,  42.55512,   1.26401, ...,  14.74682,   1.68535,\n",
       "          5.89873],\n",
       "       ...,\n",
       "       [ 36.97514,  36.97514,   3.08126, ...,  12.9413 ,   4.31377,\n",
       "          4.93002],\n",
       "       [ 38.84252,  25.27846,   1.84964, ...,  10.48131,   1.2331 ,\n",
       "          9.86477],\n",
       "       [ 43.86131, 134.67277,   0.     , ...,   4.32435,  21.00401,\n",
       "          5.55988]])"
      ]
     },
     "execution_count": 51,
     "metadata": {},
     "output_type": "execute_result"
    }
   ],
   "source": [
    "X_train"
   ]
  },
  {
   "cell_type": "code",
   "execution_count": 52,
   "metadata": {},
   "outputs": [],
   "source": [
    "target_list = []\n",
    "for _, t in train_dataset:\n",
    "    target_list.append(t)\n",
    "    \n",
    "target_list = torch.tensor(target_list)"
   ]
  },
  {
   "cell_type": "code",
   "execution_count": 53,
   "metadata": {},
   "outputs": [
    {
     "name": "stdout",
     "output_type": "stream",
     "text": [
      "tensor([0.0051, 0.0050, 0.0053, 0.0052, 0.0061, 0.0068, 0.0054])\n"
     ]
    }
   ],
   "source": [
    "class_count = [i for i in get_class_distribution(y_train).values()]\n",
    "class_weights = 1./torch.tensor(class_count, dtype=torch.float) \n",
    "print(class_weights)"
   ]
  },
  {
   "cell_type": "code",
   "execution_count": 54,
   "metadata": {},
   "outputs": [],
   "source": [
    "class_weights_all = class_weights[target_list]"
   ]
  },
  {
   "cell_type": "code",
   "execution_count": 58,
   "metadata": {},
   "outputs": [
    {
     "data": {
      "text/plain": [
       "<torch.utils.data.sampler.WeightedRandomSampler at 0x285783130>"
      ]
     },
     "execution_count": 58,
     "metadata": {},
     "output_type": "execute_result"
    }
   ],
   "source": [
    "#target_list\n",
    "#class_count\n",
    "#class_weights\n",
    "weighted_sampler"
   ]
  },
  {
   "cell_type": "code",
   "execution_count": 55,
   "metadata": {},
   "outputs": [],
   "source": [
    "weighted_sampler = WeightedRandomSampler(\n",
    "    weights=class_weights_all,\n",
    "    num_samples=len(class_weights_all),\n",
    "    replacement=True\n",
    ")"
   ]
  },
  {
   "cell_type": "code",
   "execution_count": 85,
   "metadata": {},
   "outputs": [],
   "source": [
    "EPOCHS = 20000000000\n",
    "BATCH_SIZE = 16\n",
    "LEARNING_RATE = 0.0007\n",
    "NUM_FEATURES = len(X.columns)\n",
    "NUM_CLASSES = 7"
   ]
  },
  {
   "cell_type": "code",
   "execution_count": 70,
   "metadata": {},
   "outputs": [],
   "source": [
    "train_loader = DataLoader(dataset=train_dataset,\n",
    "                          batch_size=BATCH_SIZE,\n",
    "                          sampler=weighted_sampler\n",
    ")\n",
    "val_loader = DataLoader(dataset=val_dataset, batch_size=1)\n",
    "test_loader = DataLoader(dataset=test_dataset, batch_size=1)"
   ]
  },
  {
   "cell_type": "code",
   "execution_count": 71,
   "metadata": {},
   "outputs": [],
   "source": [
    "class MulticlassClassification(nn.Module):\n",
    "    def __init__(self, num_feature, num_class):\n",
    "        super(MulticlassClassification, self).__init__()\n",
    "        \n",
    "        self.layer_1 = nn.Linear(num_feature, 512)\n",
    "        self.layer_2 = nn.Linear(512, 128)\n",
    "        self.layer_3 = nn.Linear(128, 64)\n",
    "        self.layer_out = nn.Linear(64, num_class) \n",
    "        \n",
    "        self.relu = nn.ReLU()\n",
    "        self.dropout = nn.Dropout(p=0.2)\n",
    "        self.batchnorm1 = nn.BatchNorm1d(512)\n",
    "        self.batchnorm2 = nn.BatchNorm1d(128)\n",
    "        self.batchnorm3 = nn.BatchNorm1d(64)\n",
    "        \n",
    "    def forward(self, x):\n",
    "        x = self.layer_1(x)\n",
    "        x = self.batchnorm1(x)\n",
    "        x = self.relu(x)\n",
    "        \n",
    "        x = self.layer_2(x)\n",
    "        x = self.batchnorm2(x)\n",
    "        x = self.relu(x)\n",
    "        x = self.dropout(x)\n",
    "        \n",
    "        x = self.layer_3(x)\n",
    "        x = self.batchnorm3(x)\n",
    "        x = self.relu(x)\n",
    "        x = self.dropout(x)\n",
    "        \n",
    "        x = self.layer_out(x)\n",
    "        \n",
    "        return x"
   ]
  },
  {
   "cell_type": "code",
   "execution_count": 72,
   "metadata": {},
   "outputs": [
    {
     "name": "stdout",
     "output_type": "stream",
     "text": [
      "cpu\n"
     ]
    }
   ],
   "source": [
    "device = torch.device(\"cuda:0\" if torch.cuda.is_available() else \"cpu\")\n",
    "print(device)"
   ]
  },
  {
   "cell_type": "code",
   "execution_count": 73,
   "metadata": {},
   "outputs": [
    {
     "name": "stdout",
     "output_type": "stream",
     "text": [
      "MulticlassClassification(\n",
      "  (layer_1): Linear(in_features=15505, out_features=512, bias=True)\n",
      "  (layer_2): Linear(in_features=512, out_features=128, bias=True)\n",
      "  (layer_3): Linear(in_features=128, out_features=64, bias=True)\n",
      "  (layer_out): Linear(in_features=64, out_features=7, bias=True)\n",
      "  (relu): ReLU()\n",
      "  (dropout): Dropout(p=0.2, inplace=False)\n",
      "  (batchnorm1): BatchNorm1d(512, eps=1e-05, momentum=0.1, affine=True, track_running_stats=True)\n",
      "  (batchnorm2): BatchNorm1d(128, eps=1e-05, momentum=0.1, affine=True, track_running_stats=True)\n",
      "  (batchnorm3): BatchNorm1d(64, eps=1e-05, momentum=0.1, affine=True, track_running_stats=True)\n",
      ")\n"
     ]
    }
   ],
   "source": [
    "model = MulticlassClassification(num_feature = NUM_FEATURES, num_class=NUM_CLASSES)\n",
    "model.to(device)\n",
    "\n",
    "criterion = nn.CrossEntropyLoss(weight=class_weights.to(device))\n",
    "optimizer = optim.Adam(model.parameters(), lr=LEARNING_RATE)\n",
    "print(model)"
   ]
  },
  {
   "cell_type": "code",
   "execution_count": 74,
   "metadata": {},
   "outputs": [],
   "source": [
    "def multi_acc(y_pred, y_test):\n",
    "    y_pred_softmax = torch.log_softmax(y_pred, dim = 1)\n",
    "    _, y_pred_tags = torch.max(y_pred_softmax, dim = 1)    \n",
    "    \n",
    "    correct_pred = (y_pred_tags == y_test).float()\n",
    "    acc = correct_pred.sum() / len(correct_pred)\n",
    "    \n",
    "    acc = torch.round(acc * 100)\n",
    "    \n",
    "    return acc"
   ]
  },
  {
   "cell_type": "code",
   "execution_count": 75,
   "metadata": {},
   "outputs": [],
   "source": [
    "accuracy_stats = {\n",
    "    'train': [],\n",
    "    \"val\": []\n",
    "}\n",
    "loss_stats = {\n",
    "    'train': [],\n",
    "    \"val\": []\n",
    "}"
   ]
  },
  {
   "cell_type": "code",
   "execution_count": 86,
   "metadata": {},
   "outputs": [
    {
     "name": "stdout",
     "output_type": "stream",
     "text": [
      "Begin training.\n"
     ]
    },
    {
     "data": {
      "application/vnd.jupyter.widget-view+json": {
       "model_id": "a2107ba69711436c9a277b3904cabaad",
       "version_major": 2,
       "version_minor": 0
      },
      "text/plain": [
       "  0%|          | 0/20000000000 [00:00<?, ?it/s]"
      ]
     },
     "metadata": {},
     "output_type": "display_data"
    },
    {
     "name": "stdout",
     "output_type": "stream",
     "text": [
      "Epoch 20000000000: | Train Loss: 0.07230 | Val Loss: 0.01975 | Train Acc: 99.325| Val Acc: 100.000\n"
     ]
    }
   ],
   "source": [
    "print(\"Begin training.\")\n",
    "for e in tqdm(range(1, EPOCHS+1)):\n",
    "    \n",
    "    # TRAINING\n",
    "    train_epoch_loss = 0\n",
    "    train_epoch_acc = 0\n",
    "model.train()\n",
    "for X_train_batch, y_train_batch in train_loader:\n",
    "        X_train_batch, y_train_batch = X_train_batch.to(device), y_train_batch.to(device)\n",
    "        optimizer.zero_grad()\n",
    "        \n",
    "        y_train_pred = model(X_train_batch)\n",
    "        \n",
    "        train_loss = criterion(y_train_pred, y_train_batch)\n",
    "        train_acc = multi_acc(y_train_pred, y_train_batch)\n",
    "        \n",
    "        train_loss.backward()\n",
    "        optimizer.step()\n",
    "        \n",
    "        train_epoch_loss += train_loss.item()\n",
    "        train_epoch_acc += train_acc.item()\n",
    "        \n",
    "        \n",
    "    # VALIDATION    \n",
    "with torch.no_grad():\n",
    "        \n",
    "        val_epoch_loss = 0\n",
    "        val_epoch_acc = 0\n",
    "        \n",
    "        model.eval()\n",
    "        for X_val_batch, y_val_batch in val_loader:\n",
    "            X_val_batch, y_val_batch = X_val_batch.to(device), y_val_batch.to(device)\n",
    "            \n",
    "            y_val_pred = model(X_val_batch)\n",
    "                        \n",
    "            val_loss = criterion(y_val_pred, y_val_batch)\n",
    "            val_acc = multi_acc(y_val_pred, y_val_batch)\n",
    "            \n",
    "            val_epoch_loss += val_loss.item()\n",
    "            val_epoch_acc += val_acc.item()\n",
    "loss_stats['train'].append(train_epoch_loss/len(train_loader))\n",
    "loss_stats['val'].append(val_epoch_loss/len(val_loader))\n",
    "accuracy_stats['train'].append(train_epoch_acc/len(train_loader))\n",
    "accuracy_stats['val'].append(val_epoch_acc/len(val_loader))\n",
    "                              \n",
    "    \n",
    "print(f'Epoch {e+0:03}: | Train Loss: {train_epoch_loss/len(train_loader):.5f} | Val Loss: {val_epoch_loss/len(val_loader):.5f} | Train Acc: {train_epoch_acc/len(train_loader):.3f}| Val Acc: {val_epoch_acc/len(val_loader):.3f}')\n"
   ]
  },
  {
   "cell_type": "code",
   "execution_count": 88,
   "metadata": {},
   "outputs": [
    {
     "data": {
      "text/plain": [
       "{'train': [0.6333976671099663,\n",
       "  0.22320098131895066,\n",
       "  0.12214444107376039,\n",
       "  0.09263518038205802,\n",
       "  0.07229507489828393],\n",
       " 'val': [0.21147450384959368,\n",
       "  0.08329630612959744,\n",
       "  0.04201841440943765,\n",
       "  0.029107486560258647,\n",
       "  0.019748056353345304]}"
      ]
     },
     "execution_count": 88,
     "metadata": {},
     "output_type": "execute_result"
    }
   ],
   "source": [
    "loss_stats"
   ]
  },
  {
   "cell_type": "code",
   "execution_count": 87,
   "metadata": {},
   "outputs": [
    {
     "data": {
      "text/plain": [
       "Text(0.5, 1.0, 'Train-Val Loss/Epoch')"
      ]
     },
     "execution_count": 87,
     "metadata": {},
     "output_type": "execute_result"
    },
    {
     "data": {
      "image/png": "[encoded data removed]",
      "text/plain": [
       "<Figure size 2000x700 with 2 Axes>"
      ]
     },
     "metadata": {},
     "output_type": "display_data"
    }
   ],
   "source": [
    "# Create dataframes\n",
    "train_val_acc_df = pd.DataFrame.from_dict(accuracy_stats).reset_index().melt(id_vars=['index']).rename(columns={\"index\":\"epochs\"})\n",
    "train_val_loss_df = pd.DataFrame.from_dict(loss_stats).reset_index().melt(id_vars=['index']).rename(columns={\"index\":\"epochs\"})\n",
    "# Plot the dataframes\n",
    "fig, axes = plt.subplots(nrows=1, ncols=2, figsize=(20,7))\n",
    "sns.lineplot(data=train_val_acc_df, x = \"epochs\", y=\"value\", hue=\"variable\",  ax=axes[0]).set_title('Train-Val Accuracy/Epoch')\n",
    "sns.lineplot(data=train_val_loss_df, x = \"epochs\", y=\"value\", hue=\"variable\", ax=axes[1]).set_title('Train-Val Loss/Epoch')"
   ]
  },
  {
   "cell_type": "code",
   "execution_count": 89,
   "metadata": {},
   "outputs": [],
   "source": [
    "y_pred_list = []\n",
    "with torch.no_grad():\n",
    "    model.eval()\n",
    "    for X_batch, _ in test_loader:\n",
    "        X_batch = X_batch.to(device)\n",
    "        y_test_pred = model(X_batch)\n",
    "        _, y_pred_tags = torch.max(y_test_pred, dim = 1)\n",
    "        y_pred_list.append(y_pred_tags.cpu().numpy())\n",
    "y_pred_list = [a.squeeze().tolist() for a in y_pred_list]"
   ]
  },
  {
   "cell_type": "code",
   "execution_count": 90,
   "metadata": {},
   "outputs": [
    {
     "name": "stdout",
     "output_type": "stream",
     "text": [
      "              precision    recall  f1-score   support\n",
      "\n",
      "           0       1.00      1.00      1.00        55\n",
      "           1       1.00      1.00      1.00        55\n",
      "           2       1.00      1.00      1.00        52\n",
      "           3       1.00      1.00      1.00        53\n",
      "           4       1.00      1.00      1.00        46\n",
      "           5       1.00      1.00      1.00        41\n",
      "           6       1.00      1.00      1.00        52\n",
      "\n",
      "    accuracy                           1.00       354\n",
      "   macro avg       1.00      1.00      1.00       354\n",
      "weighted avg       1.00      1.00      1.00       354\n",
      "\n"
     ]
    }
   ],
   "source": [
    "print(classification_report(y_test, y_pred_list))"
   ]
  },
  {
   "cell_type": "code",
   "execution_count": 94,
   "metadata": {},
   "outputs": [
    {
     "name": "stdout",
     "output_type": "stream",
     "text": [
      "[4 3 0 0 0 0 1 3 5 3 4 1 4 2 2 1 1 1 2 2 6 0 3 0 1 6 6 5 1 5 4 3 0 3 6 0 3\n",
      " 1 3 2 6 3 3 4 4 1 4 0 6 2 5 5 4 3 5 3 0 5 6 3 3 0 1 2 3 6 4 6 3 0 2 1 6 2\n",
      " 4 0 3 1 4 4 0 5 0 6 5 1 6 3 5 0 4 2 5 1 0 4 2 6 2 4 1 2 0 4 4 2 1 3 4 1 2\n",
      " 6 4 3 5 1 6 2 0 6 1 6 6 0 6 4 1 3 2 0 0 4 6 1 3 2 6 2 5 4 6 3 5 1 6 2 4 6\n",
      " 6 6 3 4 2 1 6 6 0 3 2 2 2 0 1 6 0 5 2 3 5 4 6 2 2 1 0 2 6 0 3 1 4 6 5 0 6\n",
      " 1 1 6 1 2 1 0 3 3 2 3 0 6 2 1 3 0 3 1 2 5 4 6 6 0 0 3 0 4 0 2 2 4 3 5 3 1\n",
      " 2 5 1 3 2 1 5 4 3 1 5 4 1 2 2 1 6 1 3 6 0 2 5 0 2 6 1 4 1 3 5 4 2 2 3 0 3\n",
      " 2 5 3 5 6 0 5 2 3 0 5 1 3 1 6 2 1 1 2 5 6 1 0 0 6 1 2 5 3 1 5 0 4 1 5 6 4\n",
      " 5 6 4 0 1 5 3 4 2 0 0 0 1 2 0 5 6 3 6 0 5 0 4 2 3 0 1 3 0 5 2 5 0 6 6 4 3\n",
      " 4 4 3 0 6 5 4 3 1 2 0 1 4 4 4 5 6 3 1 5 4] [4, 3, 0, 0, 0, 0, 1, 3, 5, 3, 4, 1, 4, 2, 2, 1, 1, 1, 2, 2, 6, 0, 3, 0, 1, 6, 6, 5, 1, 5, 4, 3, 0, 3, 6, 0, 3, 1, 3, 2, 6, 3, 3, 4, 4, 1, 4, 0, 6, 2, 5, 5, 4, 3, 5, 3, 0, 5, 6, 3, 3, 0, 1, 2, 3, 6, 4, 6, 3, 0, 2, 1, 6, 2, 4, 0, 3, 1, 4, 4, 0, 5, 0, 6, 5, 1, 6, 3, 5, 0, 4, 2, 5, 1, 0, 4, 2, 6, 2, 4, 1, 2, 0, 4, 4, 2, 1, 3, 4, 1, 2, 6, 4, 3, 5, 1, 6, 2, 0, 6, 1, 6, 6, 0, 6, 4, 1, 3, 2, 0, 0, 4, 6, 1, 3, 2, 6, 2, 5, 4, 6, 3, 5, 1, 6, 2, 4, 6, 6, 6, 3, 4, 2, 1, 6, 6, 0, 3, 2, 2, 2, 0, 1, 6, 0, 5, 2, 3, 5, 4, 6, 2, 2, 1, 0, 2, 6, 0, 3, 1, 4, 6, 5, 0, 6, 1, 1, 6, 1, 2, 1, 0, 3, 3, 2, 3, 0, 6, 2, 1, 3, 0, 3, 1, 2, 5, 4, 6, 6, 0, 0, 3, 0, 4, 0, 2, 2, 4, 3, 5, 3, 1, 2, 5, 1, 3, 2, 1, 5, 4, 3, 1, 5, 4, 1, 2, 2, 1, 6, 1, 3, 6, 0, 2, 5, 0, 2, 6, 1, 4, 1, 3, 5, 4, 2, 2, 3, 0, 3, 2, 5, 3, 5, 6, 0, 5, 2, 3, 0, 5, 1, 3, 1, 6, 2, 1, 1, 2, 5, 6, 1, 0, 0, 6, 1, 2, 5, 3, 1, 5, 0, 4, 1, 5, 6, 4, 5, 6, 4, 0, 1, 5, 3, 4, 2, 0, 0, 0, 1, 2, 0, 5, 6, 3, 6, 0, 5, 0, 4, 2, 3, 0, 1, 3, 0, 5, 2, 5, 0, 6, 6, 4, 3, 4, 4, 3, 0, 6, 5, 4, 3, 1, 2, 0, 1, 4, 4, 4, 5, 6, 3, 1, 5, 4]\n"
     ]
    }
   ],
   "source": [
    "print(y_test,y_pred_list)"
   ]
  }
 ],
 "metadata": {
  "kernelspec": {
   "display_name": "py3.8",
   "language": "python",
   "name": "python3"
  },
  "language_info": {
   "codemirror_mode": {
    "name": "ipython",
    "version": 3
   },
   "file_extension": ".py",
   "mimetype": "text/x-python",
   "name": "python",
   "nbconvert_exporter": "python",
   "pygments_lexer": "ipython3",
   "version": "3.8.18"
  }
 },
 "nbformat": 4,
 "nbformat_minor": 2
}
